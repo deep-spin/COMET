{
 "cells": [
  {
   "cell_type": "code",
   "execution_count": 1,
   "metadata": {},
   "outputs": [],
   "source": [
    "# make sure that the kernel is continually updated with changes in the functions on-the-fly\n",
    "%load_ext autoreload"
   ]
  },
  {
   "cell_type": "code",
   "execution_count": 2,
   "metadata": {},
   "outputs": [
    {
     "name": "stderr",
     "output_type": "stream",
     "text": [
      "/mnt/data/nunomg/COMET/comet-env/lib/python3.11/site-packages/tqdm/auto.py:21: TqdmWarning: IProgress not found. Please update jupyter and ipywidgets. See https://ipywidgets.readthedocs.io/en/stable/user_install.html\n",
      "  from .autonotebook import tqdm as notebook_tqdm\n",
      "/mnt/data/nunomg/COMET/comet-env/lib/python3.11/site-packages/transformers/utils/hub.py:123: FutureWarning: Using `TRANSFORMERS_CACHE` is deprecated and will be removed in v5 of Transformers. Use `HF_HOME` instead.\n",
      "  warnings.warn(\n"
     ]
    }
   ],
   "source": [
    "from comet import download_model, load_from_checkpoint"
   ]
  },
  {
   "cell_type": "code",
   "execution_count": 3,
   "metadata": {},
   "outputs": [
    {
     "name": "stderr",
     "output_type": "stream",
     "text": [
      "Lightning automatically upgraded your loaded checkpoint from v1.8.2 to v2.1.3. To apply the upgrade to your files permanently, run `python -m pytorch_lightning.utilities.upgrade_checkpoint ../../cache/models--Unbabel--wmt22-cometkiwi-da/snapshots/b3a8aea5a5fc22db68a554b92b3d96eb6ea75cc9/checkpoints/model.ckpt`\n",
      "Encoder model frozen.\n",
      "/mnt/data/nunomg/COMET/comet-env/lib/python3.11/site-packages/pytorch_lightning/core/saving.py:177: Found keys that are not in the model state dict but in the checkpoint: ['encoder.model.embeddings.position_ids']\n",
      "GPU available: True (cuda), used: True\n",
      "TPU available: False, using: 0 TPU cores\n",
      "IPU available: False, using: 0 IPUs\n",
      "HPU available: False, using: 0 HPUs\n",
      "You are using a CUDA device ('NVIDIA A100-SXM4-80GB') that has Tensor Cores. To properly utilize them, you should set `torch.set_float32_matmul_precision('medium' | 'high')` which will trade-off precision for performance. For more details, read https://pytorch.org/docs/stable/generated/torch.set_float32_matmul_precision.html#torch.set_float32_matmul_precision\n",
      "LOCAL_RANK: 0 - CUDA_VISIBLE_DEVICES: [0,1,2,3,4,5,6,7]\n",
      "Predicting DataLoader 0: 100%|██████████| 1/1 [00:00<00:00,  2.97it/s]\n"
     ]
    },
    {
     "name": "stdout",
     "output_type": "stream",
     "text": [
      "Prediction([('scores', [0.7836741805076599, 0.6854020357131958]), ('system_score', 0.7345381081104279)])\n",
      "[0.7836741805076599, 0.6854020357131958]\n",
      "0.7345381081104279\n"
     ]
    }
   ],
   "source": [
    "# Choose your model from Hugging Face Hub\n",
    "model_path = download_model(\"Unbabel/wmt22-cometkiwi-da\")\n",
    "\n",
    "# Load the model checkpoint:\n",
    "model = load_from_checkpoint(model_path)\n",
    "\n",
    "# Data must be in the following format:\n",
    "data = [\n",
    "    {\n",
    "        \"src\": \"10 到 15 分钟可以送到吗\",\n",
    "        \"mt\": \"Can I receive my food in 10 to 15 minutes?\",\n",
    "        \"ref\": \"Can it be delivered between 10 to 15 minutes?\"\n",
    "    },\n",
    "    {\n",
    "        \"src\": \"Pode ser entregue dentro de 10 a 15 minutos?\",\n",
    "        \"mt\": \"Can you send it for 10 to 15 minutes?\",\n",
    "        \"ref\": \"Can it be delivered between 10 to 15 minutes?\"\n",
    "    }\n",
    "]\n",
    "# Call predict method:\n",
    "model_output = model.predict(data, batch_size=8, gpus=1)\n",
    "print(model_output)\n",
    "print(model_output.scores) # sentence-level scores\n",
    "print(model_output.system_score) # system-level score"
   ]
  },
  {
   "cell_type": "markdown",
   "metadata": {},
   "source": [
    "## SLIDE"
   ]
  },
  {
   "cell_type": "markdown",
   "metadata": {},
   "source": [
    "By defining a `model.window_size` and `model.stride_size`, COMET will now fall back to computing SLIDE."
   ]
  },
  {
   "cell_type": "code",
   "execution_count": 4,
   "metadata": {},
   "outputs": [
    {
     "name": "stderr",
     "output_type": "stream",
     "text": [
      "Length batching is disabled when using window_size > 1 (using SLIDE). Setting length_batching to False.\n",
      "GPU available: True (cuda), used: True\n",
      "TPU available: False, using: 0 TPU cores\n",
      "IPU available: False, using: 0 IPUs\n",
      "HPU available: False, using: 0 HPUs\n",
      "LOCAL_RANK: 0 - CUDA_VISIBLE_DEVICES: [0,1,2,3,4,5,6,7]\n",
      "Predicting DataLoader 0: 100%|██████████| 1/1 [00:00<00:00,  8.88it/s]\n"
     ]
    },
    {
     "name": "stdout",
     "output_type": "stream",
     "text": [
      "Prediction([('scores', [0.7709373831748962, 0.7166000604629517, 0.7629761695861816, 0.78694748878479]), ('system_score', 0.7593652755022049)])\n",
      "[0.7709373831748962, 0.7166000604629517, 0.7629761695861816, 0.78694748878479]\n",
      "0.7593652755022049\n"
     ]
    }
   ],
   "source": [
    "from comet import download_model, load_from_checkpoint\n",
    "\n",
    "# Choose your model from Hugging Face Hub\n",
    "# model_path = download_model(\"Unbabel/XCOMET-XL\")\n",
    "\n",
    "# # Load the model checkpoint:\n",
    "# model = load_from_checkpoint(model_path)\n",
    "\n",
    "# Data must be in the following format:\n",
    "data = [\n",
    "    {\n",
    "        \"doc_id\": \"doc1\",\n",
    "        \"src\": \"10 到 15 分钟可以送到吗\",\n",
    "        \"mt\": \"Can I receive my food in 10 to 15 minutes?\",\n",
    "        # \"ref\": \"Can it be delivered between 10 to 15 minutes?\"\n",
    "    },\n",
    "    {\n",
    "        \"doc_id\": \"doc1\",\n",
    "        \"src\": \"你能在10到15分钟内送到吗\",\n",
    "        \"mt\": \"Can you deliver it in 10 to 15 minutes?\",\n",
    "        # \"ref\": \"Can it be delivered within 10 to 15 minutes?\"\n",
    "    },\n",
    "    {\n",
    "        \"doc_id\": \"doc2\",\n",
    "        \"src\": \"10 到 15 分钟可以送到吗\",\n",
    "        \"mt\": \"Can I receive my food in 10 to 15 minutes?\",\n",
    "        # \"ref\": \"Can it be delivered between 10 to 15 minutes?\"\n",
    "    },\n",
    "    {\n",
    "        \"doc_id\": \"doc2\",\n",
    "        \"src\": \"Pode ser entregue dentro de 10 a 15 minutos?\",\n",
    "        \"mt\": \"Can you send it for 10 to 15 minutes?\",\n",
    "        # \"ref\": \"Can it be delivered between 10 to 15 minutes?\"\n",
    "    },\n",
    "    {\n",
    "        \"doc_id\": \"doc2\",\n",
    "        \"src\": \"O pedido pode ser entregue em 10 a 15 minutos?\",\n",
    "        \"mt\": \"The order can be delivered in 10 to 15 minutes?\",\n",
    "        # \"ref\": \"Can the order be delivered between 10 to 15 minutes?\"\n",
    "    },\n",
    "    {\n",
    "        \"doc_id\": \"doc2\",\n",
    "        \"src\": \"Sou documento 2\",\n",
    "        \"mt\": \"I am document 2\",\n",
    "        # \"ref\": \"I am document 2\"\n",
    "    },\n",
    "    {\n",
    "        \"doc_id\": \"doc3\",\n",
    "        \"src\": \"Sou documento 3\",\n",
    "        \"mt\": \"I am document 3\",\n",
    "        # \"ref\": \"I am document 3\"\n",
    "    }\n",
    "]\n",
    "\n",
    "# Call predict method with SLIDE parameters:\n",
    "model.window_size = 2  # Define the window size\n",
    "model.stride_size = 2  # Define the stride size\n",
    "model.include_partial_docs = False  # Decide whether to include partial documents\n",
    "\n",
    "model_output = model.predict(data, batch_size=8, gpus=1)\n",
    "print(model_output)\n",
    "print(model_output.scores)  # sentence-level scores\n",
    "print(model_output.system_score)  # system-level score\n"
   ]
  },
  {
   "cell_type": "markdown",
   "metadata": {},
   "source": [
    "Check the windowed data below."
   ]
  },
  {
   "cell_type": "code",
   "execution_count": 5,
   "metadata": {},
   "outputs": [
    {
     "data": {
      "text/plain": [
       "[{'src': '10 到 15 分钟可以送到吗 你能在10到15分钟内送到吗',\n",
       "  'mt': 'Can I receive my food in 10 to 15 minutes? Can you deliver it in 10 to 15 minutes?'},\n",
       " {'src': 'Sou documento 2 #1 Pode ser entregue dentro de 10 a 15 minutos?',\n",
       "  'mt': 'Can I receive my food in 10 to 15 minutes? Can you send it for 10 to 15 minutes?'},\n",
       " {'src': 'O pedido pode ser entregue em 10 a 15 minutos? Sou documento 2',\n",
       "  'mt': 'The order can be delivered in 10 to 15 minutes? I am document 2'},\n",
       " {'src': 'Sou documento 3', 'mt': 'I am document 3'}]"
      ]
     },
     "execution_count": 5,
     "metadata": {},
     "output_type": "execute_result"
    }
   ],
   "source": [
    "from typing import List\n",
    "\n",
    "def create_windows(self, sentences: List[str], doc_ids: List[str], window_size: int, stride_size: int, include_partial_docs: bool) -> List[str]:\n",
    "    windows = []\n",
    "    current_doc = []\n",
    "    current_id = doc_ids[0]\n",
    "    for i in range(len(sentences)):\n",
    "        if doc_ids[i] != current_id:\n",
    "            windows.extend(self._create_windows_for_doc(current_doc, window_size, stride_size, include_partial_docs))\n",
    "            current_doc = []\n",
    "            current_id = doc_ids[i]\n",
    "        current_doc.append(sentences[i])\n",
    "    if current_doc:\n",
    "        windows.extend(self._create_windows_for_doc(current_doc, window_size, stride_size, include_partial_docs))\n",
    "    return windows\n",
    "\n",
    "def _create_windows_for_doc(self, sentences: List[str], window_size: int, stride_size: int, include_partial_docs: bool) -> List[str]:\n",
    "    windows = []\n",
    "    num_sentences = len(sentences)\n",
    "    for i in range(0, num_sentences - window_size + 1, stride_size):\n",
    "        window = sentences[i:i + window_size]\n",
    "        if len(window) == window_size or (include_partial_docs and window):\n",
    "            windows.append(\" \".join(window))\n",
    "    return windows\n",
    "\n",
    "# Example usage:\n",
    "data = [\n",
    "    {\n",
    "        \"doc_id\": \"doc1\",\n",
    "        \"src\": \"10 到 15 分钟可以送到吗\",\n",
    "        \"mt\": \"Can I receive my food in 10 to 15 minutes?\",\n",
    "        # \"ref\": \"Can it be delivered between 10 to 15 minutes?\"\n",
    "    },\n",
    "    {\n",
    "        \"doc_id\": \"doc1\",\n",
    "        \"src\": \"你能在10到15分钟内送到吗\",\n",
    "        \"mt\": \"Can you deliver it in 10 to 15 minutes?\",\n",
    "        # \"ref\": \"Can it be delivered within 10 to 15 minutes?\"\n",
    "    },\n",
    "    {\n",
    "        \"doc_id\": \"doc2\",\n",
    "        \"src\": \"Sou documento 2 #1\",\n",
    "        \"mt\": \"Can I receive my food in 10 to 15 minutes?\",\n",
    "        # \"ref\": \"Can it be delivered between 10 to 15 minutes?\"\n",
    "    },\n",
    "    {\n",
    "        \"doc_id\": \"doc2\",\n",
    "        \"src\": \"Pode ser entregue dentro de 10 a 15 minutos?\",\n",
    "        \"mt\": \"Can you send it for 10 to 15 minutes?\",\n",
    "        # \"ref\": \"Can it be delivered between 10 to 15 minutes?\"\n",
    "    },\n",
    "    {\n",
    "        \"doc_id\": \"doc2\",\n",
    "        \"src\": \"O pedido pode ser entregue em 10 a 15 minutos?\",\n",
    "        \"mt\": \"The order can be delivered in 10 to 15 minutes?\",\n",
    "        # \"ref\": \"Can the order be delivered between 10 to 15 minutes?\"\n",
    "    },\n",
    "    {\n",
    "        \"doc_id\": \"doc2\",\n",
    "        \"src\": \"Sou documento 2\",\n",
    "        \"mt\": \"I am document 2\",\n",
    "        # \"ref\": \"I am document 2\"\n",
    "    },\n",
    "    {\n",
    "        \"doc_id\": \"doc3\",\n",
    "        \"src\": \"Sou documento 3\",\n",
    "        \"mt\": \"I am document 3\",\n",
    "        # \"ref\": \"I am document 3\"\n",
    "    }\n",
    "]\n",
    "\n",
    "# Set SLIDE parameters:\n",
    "model.window_size = 2  # Define the window size\n",
    "model.stride_size = 2  # Define the stride size\n",
    "model.include_partial_docs = False  # Do not include partial documents\n",
    "\n",
    "# Create windows for each segment (src, mt, ref)\n",
    "src_sentences = [d[\"src\"] for d in data]\n",
    "mt_sentences = [d[\"mt\"] for d in data]\n",
    "# ref_sentences = [d[\"ref\"] for d in data]\n",
    "doc_ids = [d[\"doc_id\"] for d in data]\n",
    "\n",
    "src_windows = model.create_windows(src_sentences, doc_ids, model.window_size, model.stride_size, model.include_partial_docs)\n",
    "mt_windows = model.create_windows(mt_sentences, doc_ids, model.window_size, model.stride_size, model.include_partial_docs)\n",
    "# ref_windows = model.create_windows(ref_sentences, doc_ids, model.window_size, model.stride_size, model.include_partial_docs)\n",
    "\n",
    "# Create new data for prediction based on windows\n",
    "windowed_data = []\n",
    "for src, mt in zip(src_windows, mt_windows):\n",
    "    windowed_data.append({\n",
    "        \"src\": src,\n",
    "        \"mt\": mt,\n",
    "        # \"ref\": ref\n",
    "    })\n",
    "\n",
    "windowed_data"
   ]
  },
  {
   "cell_type": "code",
   "execution_count": null,
   "metadata": {},
   "outputs": [],
   "source": []
  }
 ],
 "metadata": {
  "kernelspec": {
   "display_name": "comet-env",
   "language": "python",
   "name": "python3"
  },
  "language_info": {
   "codemirror_mode": {
    "name": "ipython",
    "version": 3
   },
   "file_extension": ".py",
   "mimetype": "text/x-python",
   "name": "python",
   "nbconvert_exporter": "python",
   "pygments_lexer": "ipython3",
   "version": "3.11.5"
  }
 },
 "nbformat": 4,
 "nbformat_minor": 2
}
